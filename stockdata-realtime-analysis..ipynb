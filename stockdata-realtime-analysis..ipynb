﻿{
  "metadata": {
    "name": "stockdata-realtime-analysis",
    "kernelspec": {
      "language": "scala",
      "name": "spark2-scala"
    },
    "language_info": {
      "codemirror_mode": "text/x-scala",
      "file_extension": ".scala",
      "mimetype": "text/x-scala",
      "name": "scala",
      "pygments_lexer": "scala"
    }
  },
  "nbformat": 4,
  "nbformat_minor": 2,
  "cells": [
    {
      "cell_type": "code",
      "execution_count": 0,
      "metadata": {
        "autoscroll": "auto"
      },
      "outputs": [],
      "source": "%flink.ssql(type\u003dupdate)\r\n\r\nCREATE TABLE stock_table (\r\nticker VARCHAR(6),\r\nprice DOUBLE,\r\nevent_time TIMESTAMP(3),\r\nWATERMARK FOR event_time AS event_time - INTERVAL \u00275\u0027 SECOND\r\n)\r\nPARTITIONED BY (ticker)\r\nWITH (\r\n\u0027connector\u0027 \u003d \u0027kinesis\u0027,\r\n\u0027stream\u0027 \u003d \u0027input-stream\u0027,\r\n\u0027aws.region\u0027 \u003d \u0027ap-south-1\u0027,\r\n\u0027scan.stream.initpos\u0027 \u003d \u0027LATEST\u0027,\r\n\u0027format\u0027 \u003d \u0027json\u0027,\r\n\u0027json.timestamp-format.standard\u0027 \u003d \u0027ISO-8601\u0027)"
    },
    {
      "cell_type": "code",
      "execution_count": 1,
      "metadata": {
        "autoscroll": "auto"
      },
      "outputs": [],
      "source": "%flink.ssql(type\u003dupdate)\nSELECT * FROM stock_table;\n\n"
    },
    {
      "cell_type": "code",
      "execution_count": 2,
      "metadata": {
        "autoscroll": "auto"
      },
      "outputs": [],
      "source": "\n%flink.ssql(type\u003dupdate)\nSELECT * FROM stock_table WHERE price \u003e 50;"
    },
    {
      "cell_type": "code",
      "execution_count": 3,
      "metadata": {
        "autoscroll": "auto"
      },
      "outputs": [],
      "source": "%flink.ssql(type\u003dupdate)\r\n\r\nSELECT * FROM stock_table WHERE ticker LIKE \u0027AM%\u0027"
    },
    {
      "cell_type": "code",
      "execution_count": 4,
      "metadata": {
        "autoscroll": "auto"
      },
      "outputs": [],
      "source": "%flink.ssql(type\u003dupdate)\nSELECT\n    ticker,\n    MAX(price) - MIN(price) AS price_growth\nFROM stock_table\nGROUP BY ticker\nORDER BY price_growth DESC\nLIMIT 5;\n"
    },
    {
      "cell_type": "code",
      "execution_count": 5,
      "metadata": {
        "autoscroll": "auto"
      },
      "outputs": [],
      "source": "%flink.ssql(type\u003dupdate)\nSELECT\n    ticker,\n    STDDEV_POP(price) AS price_volatility\nFROM stock_input\nGROUP BY ticker\nORDER BY price_volatility DESC\nLIMIT 5;\n\n"
    },
    {
      "cell_type": "code",
      "execution_count": 6,
      "metadata": {
        "autoscroll": "auto"
      },
      "outputs": [],
      "source": "%flink.ssql(type\u003dupdate)\r\n\r\nSELECT ticker, COUNT(ticker) AS ticker_count\r\nFROM stock_table\r\nGROUP BY TUMBLE(event_time, INTERVAL \u002710\u0027 second), ticker;"
    },
    {
      "cell_type": "code",
      "execution_count": 7,
      "metadata": {
        "autoscroll": "auto"
      },
      "outputs": [],
      "source": "%flink.ssql(type\u003dupdate)\n\nSELECT ticker, COUNT(ticker) AS ticker_count\nFROM stock_table\nGROUP BY HOP(event_time, INTERVAL \u00275\u0027 second, INTERVAL \u002710\u0027 second), ticker;\n"
    },
    {
      "cell_type": "code",
      "execution_count": 8,
      "metadata": {
        "autoscroll": "auto"
      },
      "outputs": [],
      "source": "%flink.ssql(type\u003dupdate)\nSELECT\n    ticker,\n    TUMBLE_START(event_time, INTERVAL \u00271\u0027 MINUTE) AS window_start,\n    AVG(price) AS moving_avg_price\nFROM stock_table\nGROUP BY ticker, TUMBLE(event_time, INTERVAL \u00271\u0027 MINUTE);\n"
    },
    {
      "cell_type": "code",
      "execution_count": 9,
      "metadata": {
        "autoscroll": "auto"
      },
      "outputs": [],
      "source": "%flink.ssql(type\u003dupdate)\r\n\r\nSELECT *\r\nFROM stock_table\r\n    MATCH_RECOGNIZE(\r\n        PARTITION BY ticker\r\n        ORDER BY event_time\r\n        MEASURES\r\n            A.event_time AS initialPriceTime,\r\n            C.event_time AS dropTime,\r\n            A.price - C.price AS dropDiff,\r\n            A.price as initialPrice,\r\n            C.price as lastPrice\r\n        ONE ROW PER MATCH\r\n        AFTER MATCH SKIP PAST LAST ROW\r\n        PATTERN (A B* C) WITHIN INTERVAL \u002710\u0027 MINUTES\r\n        DEFINE\r\n            B AS B.price \u003e A.price - 500\r\n    )"
    },
    {
      "cell_type": "code",
      "execution_count": 10,
      "metadata": {
        "autoscroll": "auto"
      },
      "outputs": [],
      "source": "%flink.ssql(type\u003dupdate)\r\nCREATE TABLE output_table (\r\nticker VARCHAR(6),\r\nmax_price DOUBLE,\r\nmin_price DOUBLE,\r\navg_price DOUBLE\r\n\r\n)\r\n\r\nWITH (\r\n\u0027connector\u0027 \u003d \u0027kinesis\u0027,\r\n\u0027stream\u0027 \u003d \u0027output-stream\u0027,\r\n\u0027aws.region\u0027 \u003d \u0027ap-south-1\u0027,\r\n\u0027scan.stream.initpos\u0027 \u003d \u0027LATEST\u0027,\r\n\u0027format\u0027 \u003d \u0027json\u0027)\r\n\r\n\r\n\r\n\r\n"
    },
    {
      "cell_type": "code",
      "execution_count": 11,
      "metadata": {
        "autoscroll": "auto"
      },
      "outputs": [],
      "source": "%flink.ssql(type\u003dupdate)\r\n\r\nINSERT INTO output_table\r\nSELECT\r\n    ticker,\r\n    MAX(price) AS max_price,\r\n    MIN(price) AS min_price,\r\n    AVG(price) AS avg_price\r\nFROM stock_table\r\nGROUP BY ticker, TUMBLE(PROCTIME(), INTERVAL \u00271\u0027 MINUTE);\r\n\r\n"
    },
    {
      "cell_type": "code",
      "execution_count": 12,
      "metadata": {
        "autoscroll": "auto"
      },
      "outputs": [],
      "source": "%flink.ssql(type\u003dupdate)\r\n\r\nCREATE TABLE stock_input (\r\n    ticker STRING,\r\n    price DOUBLE,\r\n    event_time STRING\r\n) WITH (\r\n    \u0027connector\u0027 \u003d \u0027kinesis\u0027,\r\n    \u0027stream\u0027 \u003d \u0027input-stream\u0027,\r\n    \u0027aws.region\u0027 \u003d \u0027ap-south-1\u0027,\r\n    \u0027format\u0027 \u003d \u0027json\u0027,\r\n    \u0027json.fail-on-missing-field\u0027 \u003d \u0027false\u0027,\r\n    \u0027scan.stream.initpos\u0027 \u003d \u0027LATEST\u0027\r\n);\r\n"
    },
    {
      "cell_type": "code",
      "execution_count": 13,
      "metadata": {
        "autoscroll": "auto"
      },
      "outputs": [],
      "source": "%flink.ssql(type\u003dupdate)\n\nCREATE TABLE stock_output (\n    ticker STRING,\n    max_price DOUBLE,\n    min_price DOUBLE,\n    avg_price DOUBLE\n) WITH (\n    \u0027connector\u0027 \u003d \u0027kinesis\u0027,\n    \u0027stream\u0027 \u003d \u0027output-stream\u0027,\n    \u0027aws.region\u0027 \u003d \u0027ap-south-1\u0027,\n    \u0027format\u0027 \u003d \u0027json\u0027,\n    \u0027json.fail-on-missing-field\u0027 \u003d \u0027false\u0027,\n    \u0027sink.partitioner\u0027 \u003d \u0027random\u0027\n);\n\n"
    },
    {
      "cell_type": "code",
      "execution_count": 14,
      "metadata": {
        "autoscroll": "auto"
      },
      "outputs": [],
      "source": "%flink.ssql(type\u003dupdate)\n\nINSERT INTO stock_output\nSELECT\n    ticker,\n    MAX(price) AS max_price,\n    MIN(price) AS min_price,\n    AVG(price) AS avg_price\nFROM stock_table\nGROUP BY ticker, TUMBLE(PROCTIME(), INTERVAL \u00271\u0027 MINUTE);\n\n"
    },
    {
      "cell_type": "code",
      "execution_count": 15,
      "metadata": {
        "autoscroll": "auto"
      },
      "outputs": [],
      "source": "%flink.ssql(type\u003dupdate)\n\nSELECT * FROM stock_output;\n"
    },
    {
      "cell_type": "code",
      "execution_count": 16,
      "metadata": {
        "autoscroll": "auto"
      },
      "outputs": [],
      "source": "%flink.ssql\n"
    }
  ]
}